{
 "cells": [
  {
   "cell_type": "markdown",
   "metadata": {
    "colab_type": "text",
    "id": "OvE2wd5hhoAh"
   },
   "source": [
    "MIE424 (2021 Winter) Lab 8: SVM implementation\n",
    "======\n",
    "\n",
    "Student Version"
   ]
  },
  {
   "cell_type": "markdown",
   "metadata": {
    "colab_type": "text",
    "id": "tv-_aHQNGR2A"
   },
   "source": [
    "## SVM implementation using `scikit-learn`"
   ]
  },
  {
   "cell_type": "markdown",
   "metadata": {
    "colab_type": "text",
    "id": "UY3gFRWlHXSh"
   },
   "source": [
    "### Basics of `sklearn.svm`"
   ]
  },
  {
   "cell_type": "code",
   "execution_count": null,
   "metadata": {
    "colab": {},
    "colab_type": "code",
    "id": "jVOZtoMKGbDE"
   },
   "outputs": [],
   "source": [
    "from sklearn import svm"
   ]
  },
  {
   "cell_type": "code",
   "execution_count": null,
   "metadata": {
    "colab": {},
    "colab_type": "code",
    "id": "uAVc-wSuGddY"
   },
   "outputs": [],
   "source": [
    "X = [[0, 0], [1, 1]];\n",
    "y = [-1, 1,];\n",
    "clf = svm.SVC();\n",
    "clf.fit(X, y);"
   ]
  },
  {
   "cell_type": "markdown",
   "metadata": {},
   "source": [
    "Use `.predict()` to make predictions."
   ]
  },
  {
   "cell_type": "code",
   "execution_count": null,
   "metadata": {
    "colab": {
     "base_uri": "https://localhost:8080/",
     "height": 34
    },
    "colab_type": "code",
    "id": "p0Qi-TcGGo97",
    "outputId": "a735053c-cdbe-458d-d6c4-c4b59e7404b3"
   },
   "outputs": [],
   "source": [
    "clf.predict([[0., 0.5]])"
   ]
  },
  {
   "cell_type": "markdown",
   "metadata": {
    "colab_type": "text",
    "id": "Ymff3K5hHDWW"
   },
   "source": [
    "`.support vectors` gives the support vectors."
   ]
  },
  {
   "cell_type": "code",
   "execution_count": null,
   "metadata": {
    "colab": {
     "base_uri": "https://localhost:8080/",
     "height": 51
    },
    "colab_type": "code",
    "id": "DOntiupLGxPx",
    "outputId": "91912ef9-4741-47b4-ba00-d652e28a6d32"
   },
   "outputs": [],
   "source": [
    "clf.support_vectors_"
   ]
  },
  {
   "cell_type": "markdown",
   "metadata": {
    "colab_type": "text",
    "id": "n-tpao7hG97K"
   },
   "source": [
    "`clf.support_` gives the indices of support vectors."
   ]
  },
  {
   "cell_type": "code",
   "execution_count": null,
   "metadata": {
    "colab": {
     "base_uri": "https://localhost:8080/",
     "height": 34
    },
    "colab_type": "code",
    "id": "X8_RvfZTG7Us",
    "outputId": "9115676a-4ab2-4a7b-f8a5-d6298c9f857b"
   },
   "outputs": [],
   "source": [
    "clf.support_"
   ]
  },
  {
   "cell_type": "markdown",
   "metadata": {},
   "source": [
    "To find out more, the documnetation for [sklearn.svm](https://scikit-learn.org/stable/modules/classes.html#module-sklearn.svm) could be helpful.\n",
    "\n",
    "For the function used in this example [(`sklearn.svm.SVC`: Support Vector Classification), documentation can be found here.](https://scikit-learn.org/stable/modules/generated/sklearn.svm.SVC.html)."
   ]
  },
  {
   "cell_type": "markdown",
   "metadata": {
    "colab_type": "text",
    "id": "LdI9IgKYHdiG"
   },
   "source": [
    "### Examples of SVM classifiers in the iris dataset"
   ]
  },
  {
   "cell_type": "markdown",
   "metadata": {
    "colab_type": "text",
    "id": "vLEbWkKdKBUS"
   },
   "source": [
    "We are using the 'iris' dataset in this tutorial.\n",
    "\n",
    "This data sets consists of 3 different types of irises’ (Setosa, Versicolour, and Virginica) petal and sepal length, stored in a 150x4 numpy.ndarray\n",
    "\n",
    "The rows being the samples and the columns being: Sepal Length, Sepal Width, Petal Length and Petal Width.\n",
    "\n",
    "[More information](https://en.wikipedia.org/wiki/Iris_flower_data_set) about this [dataset](https://scikit-learn.org/stable/datasets/toy_dataset.html#iris-dataset).\n",
    "\n",
    "For our tutorial, only the first two features are used and only first 100 datapoints (2 types out of 3) are selected."
   ]
  },
  {
   "cell_type": "code",
   "execution_count": null,
   "metadata": {
    "colab": {},
    "colab_type": "code",
    "id": "wOGdZckRHiDb"
   },
   "outputs": [],
   "source": [
    "import numpy as np\n",
    "import matplotlib.pyplot as plt\n",
    "from sklearn import datasets"
   ]
  },
  {
   "cell_type": "code",
   "execution_count": null,
   "metadata": {
    "colab": {},
    "colab_type": "code",
    "id": "mJOgpQUVHmF0"
   },
   "outputs": [],
   "source": [
    "iris = datasets.load_iris()\n",
    "X = iris.data[:, :2]\n",
    "y = iris.target\n",
    "y = y[np.where(y<2)[0]]\n",
    "X = X[np.where(y<2)[0]]"
   ]
  },
  {
   "cell_type": "code",
   "execution_count": null,
   "metadata": {
    "colab": {},
    "colab_type": "code",
    "id": "H7uNtRYFIQ8P"
   },
   "outputs": [],
   "source": [
    "C = 1.0  # SVM regularization parameter\n",
    "models = (svm.LinearSVC(C=C, max_iter=10000),\n",
    "          svm.SVC(kernel='rbf', gamma=0.7, C=C),\n",
    "          svm.SVC(kernel='poly', degree=3, gamma='auto', C=C),\n",
    "          svm.SVC(kernel='poly', degree=5, gamma='auto', C=C))\n",
    "models = (clf.fit(X, y) for clf in models)"
   ]
  },
  {
   "cell_type": "code",
   "execution_count": null,
   "metadata": {
    "colab": {
     "base_uri": "https://localhost:8080/",
     "height": 278
    },
    "colab_type": "code",
    "id": "Joj3WMYDI9io",
    "outputId": "16bd4edb-06a5-4127-dd08-c591b388b5d4"
   },
   "outputs": [],
   "source": [
    "# Plot the results\n",
    "def make_meshgrid(x, y, h=.02):\n",
    "    \"\"\"Create a mesh of points to plot in\n",
    "    Parameters\n",
    "    ----------\n",
    "    x: data to base x-axis meshgrid on\n",
    "    y: data to base y-axis meshgrid on\n",
    "    h: stepsize for meshgrid, optional\n",
    "    Returns\n",
    "    -------\n",
    "    xx, yy : ndarray\n",
    "    \"\"\"\n",
    "    x_min, x_max = x.min() - 1, x.max() + 1\n",
    "    y_min, y_max = y.min() - 1, y.max() + 1\n",
    "    xx, yy = np.meshgrid(np.arange(x_min, x_max, h),\n",
    "                         np.arange(y_min, y_max, h))\n",
    "    return xx, yy\n",
    "\n",
    "def plot_contours(ax, clf, xx, yy, **params):\n",
    "    \"\"\"Plot the decision boundaries for a classifier.\n",
    "    Parameters\n",
    "    ----------\n",
    "    ax: matplotlib axes object\n",
    "    clf: a classifier\n",
    "    xx: meshgrid ndarray\n",
    "    yy: meshgrid ndarray\n",
    "    params: dictionary of params to pass to contourf, optional\n",
    "    \"\"\"\n",
    "    Z = clf.predict(np.c_[xx.ravel(), yy.ravel()])\n",
    "    Z = Z.reshape(xx.shape)\n",
    "    out = ax.contourf(xx, yy, Z, **params)\n",
    "    return out\n",
    "\n",
    "# Set-up 2x2 grid for plotting.\n",
    "fig, sub = plt.subplots(2, 2)\n",
    "plt.subplots_adjust(wspace=0.4, hspace=0.4)\n",
    "\n",
    "X0, X1 = X[:, 0], X[:, 1]\n",
    "xx, yy = make_meshgrid(X0, X1)\n",
    "\n",
    "titles = ('SVM (linear boundary)',\n",
    "          'SVM (RBF kernel)',\n",
    "          'SVM (polynomial degree=3)',\n",
    "          'SVM (polynomial degree=5)')\n",
    "\n",
    "for clf, title, ax in zip(models, titles, sub.flatten()):\n",
    "    plot_contours(ax, clf, xx, yy,\n",
    "                  cmap=plt.cm.coolwarm, alpha=0.8)\n",
    "    ax.scatter(X0, X1, c=y, cmap=plt.cm.coolwarm, s=20, edgecolors='k')\n",
    "    ax.set_xlim(xx.min(), xx.max())\n",
    "    ax.set_ylim(yy.min(), yy.max())\n",
    "    ax.set_xlabel('Sepal length')\n",
    "    ax.set_ylabel('Sepal width')\n",
    "    ax.set_xticks(())\n",
    "    ax.set_yticks(())\n",
    "    ax.set_title(title)\n",
    "\n",
    "plt.show()"
   ]
  },
  {
   "cell_type": "markdown",
   "metadata": {
    "colab_type": "text",
    "id": "9VJqP59bRCiA"
   },
   "source": [
    "## SVM implementation using `cvxpy`"
   ]
  },
  {
   "cell_type": "code",
   "execution_count": null,
   "metadata": {
    "colab": {},
    "colab_type": "code",
    "id": "QZuIbgyiWqIT"
   },
   "outputs": [],
   "source": [
    "import cvxpy as cp\n",
    "import numpy as np"
   ]
  },
  {
   "cell_type": "code",
   "execution_count": null,
   "metadata": {
    "colab": {
     "base_uri": "https://localhost:8080/",
     "height": 265
    },
    "colab_type": "code",
    "id": "ljXvBBhSRJcY",
    "outputId": "c0c64d61-0506-4341-8ee3-b3a1a9927214"
   },
   "outputs": [],
   "source": [
    "np.random.seed(424)\n",
    "\n",
    "x1 = np.random.normal(2, 1, (2, 40));\n",
    "x2 = np.random.normal(-2, 1, (2, 40));\n",
    "plt.scatter(x1[0, :], x1[1, :], color='blue');\n",
    "plt.scatter(x2[0, :], x2[1, :], color='green');"
   ]
  },
  {
   "cell_type": "markdown",
   "metadata": {},
   "source": [
    "Hard-margin SVM optimization problem implementation:"
   ]
  },
  {
   "cell_type": "markdown",
   "metadata": {},
   "source": [
    "Exercise: \n",
    "\n",
    "Solve the hard margin SVM optimization problem using `cvxpy`."
   ]
  },
  {
   "cell_type": "code",
   "execution_count": null,
   "metadata": {},
   "outputs": [],
   "source": [
    "w = cp.Variable(2); \n",
    "b = cp.Variable();\n",
    "\n",
    "## FILL IN HERE: the objective function to minimize\n",
    "obj = None\n",
    "\n",
    "constraints = []\n",
    "\n",
    "for i in range(40):\n",
    "\n",
    "    ## FILL IN HERE: the objective function to minimize\n",
    "    ## y_i * (w^T*x_i + b ) >= 1\n",
    "    ## Hint: for each i, complete the constraint that is associated with x1[i] and x2[i]\n",
    "    \n",
    "    constraints.append(None) # exercise, need to complete\n",
    "    constraints.append(None) # exercise, need to complete\n",
    "    \n",
    "cp.Problem(cp.Minimize(obj), constraints).solve();"
   ]
  },
  {
   "cell_type": "code",
   "execution_count": null,
   "metadata": {},
   "outputs": [],
   "source": [
    "x = np.arange(-4, 4)\n",
    "y = -(w.value[0] * x + b.value) / w.value[1]\n",
    "plt.plot(x, y, color='red')\n",
    "plt.scatter(x1[0, :], x1[1, :], color='blue')\n",
    "plt.scatter(x2[0, :], x2[1, :], color='green')"
   ]
  },
  {
   "cell_type": "code",
   "execution_count": null,
   "metadata": {},
   "outputs": [],
   "source": [
    "np.random.seed(2021)\n",
    "\n",
    "x1 = np.random.normal(2, 2, (2, 40));\n",
    "x2 = np.random.normal(-2, 2, (2, 40));\n",
    "plt.scatter(x1[0, :], x1[1, :], color='blue');\n",
    "plt.scatter(x2[0, :], x2[1, :], color='green');"
   ]
  },
  {
   "cell_type": "code",
   "execution_count": null,
   "metadata": {},
   "outputs": [],
   "source": [
    "# You may copy the codes for hard-margin SVM above in here\n",
    "\n",
    "w = cp.Variable(2); \n",
    "b = cp.Variable();\n",
    "\n",
    "## FILL IN HERE: the objective function to minimize\n",
    "obj = None\n",
    "\n",
    "constraints = []\n",
    "\n",
    "for i in range(40):\n",
    "\n",
    "    ## FILL IN HERE: the objective function to minimize\n",
    "    ## y_i * (w^T*x_i + b ) >= 1\n",
    "    ## Hint: for each i, complete the constraint that is associated with x1[i] and x2[i]\n",
    "    \n",
    "    constraints.append(None) # exercise, need to complete\n",
    "    constraints.append(None) # exercise, need to complete\n",
    "    \n",
    "cp.Problem(cp.Minimize(obj), constraints).solve();"
   ]
  },
  {
   "cell_type": "code",
   "execution_count": null,
   "metadata": {},
   "outputs": [],
   "source": [
    "problem.status"
   ]
  },
  {
   "cell_type": "markdown",
   "metadata": {},
   "source": [
    "Soft-margin SVM optimization problem implementation:"
   ]
  },
  {
   "cell_type": "markdown",
   "metadata": {},
   "source": [
    "Exercise: \n",
    "\n",
    "Solve the soft margin SVM optimization problem using `cvxpy`."
   ]
  },
  {
   "cell_type": "code",
   "execution_count": null,
   "metadata": {
    "colab": {},
    "colab_type": "code",
    "id": "lhvpnCUrRJeh"
   },
   "outputs": [],
   "source": [
    "w = cp.Variable(2); \n",
    "b = cp.Variable();\n",
    "xi1 = cp.Variable(40);\n",
    "xi2 = cp.Variable(40);\n",
    "\n",
    "## FILL IN HERE: the objective function to minimize\n",
    "obj = None # exercise, need to complete\n",
    "\n",
    "\n",
    "constraints = []\n",
    "constraints.append(xi1>=0)\n",
    "constraints.append(xi2>=0)\n",
    "for i in range(40):\n",
    "    \n",
    "    ## FILL IN HERE: the objective function to minimize\n",
    "    ## y_i * (w^T*x_i + b ) >= 1 - xi_i\n",
    "    ## Hint: for each i, complete the constraint that is associated with x1[i] and x2[i]\n",
    "    \n",
    "    constraints.append(None) # exercise, need to complete\n",
    "    constraints.append(None) # exercise, need to complete\n",
    "    \n",
    "cp.Problem(cp.Minimize(obj), constraints).solve();"
   ]
  },
  {
   "cell_type": "code",
   "execution_count": null,
   "metadata": {
    "colab": {
     "base_uri": "https://localhost:8080/",
     "height": 282
    },
    "colab_type": "code",
    "id": "wrAK8dDjW8Te",
    "outputId": "978347c3-5cbd-4e10-d534-72b2a9587624"
   },
   "outputs": [],
   "source": [
    "x = np.arange(-4, 4)\n",
    "y = -(w.value[0] * x + b.value) / w.value[1]\n",
    "plt.plot(x, y, color='red')\n",
    "plt.scatter(x1[0, :], x1[1, :], color='blue')\n",
    "plt.scatter(x2[0, :], x2[1, :], color='green')"
   ]
  },
  {
   "cell_type": "code",
   "execution_count": null,
   "metadata": {},
   "outputs": [],
   "source": [
    "print(w.value.T@x1+b.value)\n",
    "print(w.value.T@x2+b.value)"
   ]
  },
  {
   "cell_type": "code",
   "execution_count": null,
   "metadata": {
    "colab": {
     "base_uri": "https://localhost:8080/",
     "height": 187
    },
    "colab_type": "code",
    "id": "cZqdH_yjcF1z",
    "outputId": "ba0c74a6-9746-400f-a892-8860b37d3c38"
   },
   "outputs": [],
   "source": [
    "print(np.where(1-np.isclose(xi1.value,0)))\n",
    "print(np.where(1-np.isclose(xi2.value,0)))"
   ]
  },
  {
   "cell_type": "markdown",
   "metadata": {},
   "source": [
    "Check if the results from cvxpy is the same with SVM in sklearn."
   ]
  },
  {
   "cell_type": "code",
   "execution_count": null,
   "metadata": {},
   "outputs": [],
   "source": [
    "print(w.value)\n",
    "print(b.value)"
   ]
  },
  {
   "cell_type": "code",
   "execution_count": null,
   "metadata": {},
   "outputs": [],
   "source": [
    "x = np.zeros((2,80))\n",
    "x[:,0:40]=x1\n",
    "x[:,40:81]=x2\n",
    "\n",
    "y = np.zeros(80)\n",
    "y[0:40]=1\n",
    "y[40:81]=-1\n",
    "\n",
    "## FILL IN HERE: Use svm.SVC to fit a linear SVM classifier and print the fitted parameters \n",
    "\n",
    "model = None;     # exercise, need to complete\n",
    "model.fit(None);  # exercise, need to complete\n",
    "\n",
    "print(None)  # exercise, need to complete\n",
    "print(None)  # exercise, need to complete"
   ]
  },
  {
   "cell_type": "markdown",
   "metadata": {
    "colab_type": "text",
    "id": "k63deseZ3CeF"
   },
   "source": [
    "## Multi-class SVM Example"
   ]
  },
  {
   "cell_type": "markdown",
   "metadata": {},
   "source": [
    "`sklearn.svm.SVC` implement the “one-versus-one” approach for multi-class classification. In total, `n_classes * (n_classes - 1) / 2` classifiers are constructed and each one trains data from two classes. Each data point is then classified according to a majority vote amongst the classifiers."
   ]
  },
  {
   "cell_type": "code",
   "execution_count": null,
   "metadata": {
    "colab": {},
    "colab_type": "code",
    "id": "VhG04hj93Jn0"
   },
   "outputs": [],
   "source": [
    "iris = datasets.load_iris()\n",
    "X = iris.data[:, :2]\n",
    "y = iris.target\n",
    "y = y\n",
    "X = X"
   ]
  },
  {
   "cell_type": "code",
   "execution_count": null,
   "metadata": {
    "colab": {},
    "colab_type": "code",
    "id": "d9Qpl4xQ3RIy"
   },
   "outputs": [],
   "source": [
    "C = 1.0  # SVM regularization parameter\n",
    "models = (svm.LinearSVC(C=C, max_iter=10000),\n",
    "          svm.SVC(kernel='rbf', gamma=0.7, C=C),\n",
    "          svm.SVC(kernel='poly', degree=3, gamma='auto', C=C),\n",
    "          svm.SVC(kernel='poly', degree=5, gamma='auto', C=C))\n",
    "models = (clf.fit(X, y) for clf in models)"
   ]
  },
  {
   "cell_type": "code",
   "execution_count": null,
   "metadata": {
    "colab": {
     "base_uri": "https://localhost:8080/",
     "height": 278
    },
    "colab_type": "code",
    "id": "CZV2Q3kq3XPL",
    "outputId": "d3264085-2b2e-4440-c28f-1975154e286b"
   },
   "outputs": [],
   "source": [
    "# Plot the results\n",
    "def make_meshgrid(x, y, h=.02):\n",
    "    \"\"\"Create a mesh of points to plot in\n",
    "    Parameters\n",
    "    ----------\n",
    "    x: data to base x-axis meshgrid on\n",
    "    y: data to base y-axis meshgrid on\n",
    "    h: stepsize for meshgrid, optional\n",
    "    Returns\n",
    "    -------\n",
    "    xx, yy : ndarray\n",
    "    \"\"\"\n",
    "    x_min, x_max = x.min() - 1, x.max() + 1\n",
    "    y_min, y_max = y.min() - 1, y.max() + 1\n",
    "    xx, yy = np.meshgrid(np.arange(x_min, x_max, h),\n",
    "                         np.arange(y_min, y_max, h))\n",
    "    return xx, yy\n",
    "\n",
    "def plot_contours(ax, clf, xx, yy, **params):\n",
    "    \"\"\"Plot the decision boundaries for a classifier.\n",
    "    Parameters\n",
    "    ----------\n",
    "    ax: matplotlib axes object\n",
    "    clf: a classifier\n",
    "    xx: meshgrid ndarray\n",
    "    yy: meshgrid ndarray\n",
    "    params: dictionary of params to pass to contourf, optional\n",
    "    \"\"\"\n",
    "    Z = clf.predict(np.c_[xx.ravel(), yy.ravel()])\n",
    "    Z = Z.reshape(xx.shape)\n",
    "    out = ax.contourf(xx, yy, Z, **params)\n",
    "    return out\n",
    "\n",
    "# Set-up 2x2 grid for plotting.\n",
    "fig, sub = plt.subplots(2, 2)\n",
    "plt.subplots_adjust(wspace=0.4, hspace=0.4)\n",
    "\n",
    "X0, X1 = X[:, 0], X[:, 1]\n",
    "xx, yy = make_meshgrid(X0, X1)\n",
    "\n",
    "titles = ('SVM (linear boundary)',\n",
    "          'SVM (RBF kernel)',\n",
    "          'SVM (polyn degree=3 kernel)',\n",
    "          'SVM (polynomial degree=5 kernel)')\n",
    "for clf, title, ax in zip(models, titles, sub.flatten()):\n",
    "    plot_contours(ax, clf, xx, yy,\n",
    "                  cmap=plt.cm.coolwarm, alpha=0.8)\n",
    "    ax.scatter(X0, X1, c=y, cmap=plt.cm.coolwarm, s=20, edgecolors='k')\n",
    "    ax.set_xlim(xx.min(), xx.max())\n",
    "    ax.set_ylim(yy.min(), yy.max())\n",
    "    ax.set_xlabel('Sepal length')\n",
    "    ax.set_ylabel('Sepal width')\n",
    "    ax.set_xticks(())\n",
    "    ax.set_yticks(())\n",
    "    ax.set_title(title)\n",
    "\n",
    "\n",
    "\n",
    "plt.show()"
   ]
  }
 ],
 "metadata": {
  "colab": {
   "name": "MIE424_Tutorial6_SVM_implementation.ipynb",
   "provenance": []
  },
  "kernelspec": {
   "display_name": "Python 3",
   "language": "python",
   "name": "python3"
  },
  "language_info": {
   "codemirror_mode": {
    "name": "ipython",
    "version": 3
   },
   "file_extension": ".py",
   "mimetype": "text/x-python",
   "name": "python",
   "nbconvert_exporter": "python",
   "pygments_lexer": "ipython3",
   "version": "3.7.3"
  }
 },
 "nbformat": 4,
 "nbformat_minor": 1
}
